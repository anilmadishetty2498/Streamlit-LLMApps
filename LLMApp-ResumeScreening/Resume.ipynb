{
 "cells": [
  {
   "cell_type": "code",
   "execution_count": 2,
   "metadata": {},
   "outputs": [
    {
     "name": "stderr",
     "output_type": "stream",
     "text": [
      "c:\\Users\\AKM098\\AppData\\Local\\anaconda3\\envs\\llm-mysql\\lib\\site-packages\\pinecone\\data\\index.py:1: TqdmWarning: IProgress not found. Please update jupyter and ipywidgets. See https://ipywidgets.readthedocs.io/en/stable/user_install.html\n",
      "  from tqdm.autonotebook import tqdm\n"
     ]
    }
   ],
   "source": [
    "from langchain.vectorstores import Pinecone\n",
    "from langchain.llms import OpenAI\n",
    "from langchain.embeddings.sentence_transformer import SentenceTransformerEmbeddings\n",
    "from langchain.schema import Document\n",
    "import pinecone\n",
    "from pypdf import PdfReader\n",
    "#from langchain.llms.openai import OpenAI\n",
    "from langchain.chains.summarize import load_summarize_chain\n",
    "from langchain import HuggingFaceHub"
   ]
  },
  {
   "cell_type": "code",
   "execution_count": 26,
   "metadata": {},
   "outputs": [],
   "source": [
    "import glob"
   ]
  },
  {
   "cell_type": "code",
   "execution_count": 3,
   "metadata": {},
   "outputs": [],
   "source": [
    "#Extract Information from PDF file\n",
    "def get_pdf_text(pdf_doc):\n",
    "    text = \"\"\n",
    "    pdf_reader = PdfReader(pdf_doc)\n",
    "    for page in pdf_reader.pages:\n",
    "        text += page.extract_text()\n",
    "    return text"
   ]
  },
  {
   "cell_type": "code",
   "execution_count": 75,
   "metadata": {},
   "outputs": [],
   "source": [
    "pdf = \"docs/embedded-software-engineer-resume-example.pdf\""
   ]
  },
  {
   "cell_type": "code",
   "execution_count": 76,
   "metadata": {},
   "outputs": [
    {
     "data": {
      "text/plain": [
       "'SALVADOR SANZ\\nEmbedded Software Engineer\\nsalvador.sanz@email.com (123) 456-7890 Dover, DE\\nLinkedIn\\nWORK EXPERIENCE\\nSenior Embedded Software Engineer\\nDice\\n2019 - current Dover, DE\\nContributed to the design of software system architecture\\nto establish a stable foundation for 25+ applications\\nManaged 3 long-term development programs and 6\\nshort-cycle custom design tasks\\nOwned 100% of technical leadership responsibilities for\\nproduct feature research and development\\nSpearheaded all aspects of product development from\\nsystem design to testing\\nSoftware Engineer III, Embedded Systems\\nGoogle\\n2015 - 2019 Dover, DE\\nArchitected, implemented, and maintained 50+ complex\\nﬁrmware/software designs\\nWrote clean, robust, testable, reusable, and sustainable\\ncode tailored for embedded systems\\nWorked with 4 multi-functional teams to determine\\nsoftware architecture and speciﬁcations\\nDeveloped and maintained 12+ engineering tools used to\\ndebug, analyze, and test embedded products\\nResearch & Development Embedded\\nSoftware Engineer\\nSuperpedestrian\\n2011 - 2015 Dover, DE\\nCollaborated with 3 multidisciplinary teams to build\\nveriﬁcation plans, frameworks, tools, and tests\\nArchitected and developed 10+ tools and infrastructures\\nto support efﬁcient building, debugging, and deployment\\nReviewed and updated 300+ software requirements and\\ndesigns for veriﬁability\\nCoordinated 100% of software testing resources (internal\\n& external) and provided schedule estimatesCAREER SUMMARY\\nProven and hard-working\\nembedded software engineer with\\n10+ years of experience. My passion\\nis combining clean and scalable\\ncode with cutting-edge physical\\nhardware, and I am eager to solve\\ncreative problems for Oracle\\nconsumers to create an improved\\nuser experience.\\nEDUCATION\\nBachelor of Science\\nComputer Science\\nCarnegie Mellon University\\n2007 - 2011\\nPittsburgh, PA\\nSKILLS\\nPython\\nPerl\\nRISC CPUA\\nOperating System Hardware\\nRTOS\\nJTAG/SWD\\nC/C++\\nQEMU'"
      ]
     },
     "execution_count": 76,
     "metadata": {},
     "output_type": "execute_result"
    }
   ],
   "source": [
    "pdf_doc = get_pdf_text(pdf)\n",
    "pdf_doc"
   ]
  },
  {
   "cell_type": "code",
   "execution_count": 72,
   "metadata": {},
   "outputs": [
    {
     "data": {
      "text/plain": [
       "['c:/Users/AKM098/OneDrive - Maersk Group/Data_Science/End-to-End-implementation/LLMApps/LLMApp-ResumeScreening/docs/.\\\\embedded-software-engineer-resume-example.pdf',\n",
       " 'c:/Users/AKM098/OneDrive - Maersk Group/Data_Science/End-to-End-implementation/LLMApps/LLMApp-ResumeScreening/docs/.\\\\java-programmer-resume-example.pdf']"
      ]
     },
     "execution_count": 72,
     "metadata": {},
     "output_type": "execute_result"
    }
   ],
   "source": [
    "dir = r'c:/Users/AKM098/OneDrive - Maersk Group/Data_Science/End-to-End-implementation/LLMApps/LLMApp-ResumeScreening/docs/'\n",
    "files = glob.glob(dir+'./*.pdf')\n",
    "files[:2]"
   ]
  },
  {
   "cell_type": "code",
   "execution_count": 73,
   "metadata": {},
   "outputs": [],
   "source": [
    "pdf_list = files[:2]"
   ]
  },
  {
   "cell_type": "code",
   "execution_count": 4,
   "metadata": {},
   "outputs": [],
   "source": [
    "def create_docs(user_pdf_list, unique_id):\n",
    "    docs=[]\n",
    "    for filename in user_pdf_list:\n",
    "        \n",
    "        chunks=get_pdf_text(filename)\n",
    "\n",
    "        #Adding items to our list - Adding data & its metadata\n",
    "        docs.append(Document(\n",
    "            page_content=chunks,\n",
    "            metadata={\"name\": filename.name,\"id\":filename.id,\"type=\":filename.type,\"size\":filename.size,\"unique_id\":unique_id},\n",
    "        ))\n",
    "\n",
    "    return docs"
   ]
  },
  {
   "cell_type": "code",
   "execution_count": 81,
   "metadata": {},
   "outputs": [
    {
     "ename": "AttributeError",
     "evalue": "'str' object has no attribute 'name'",
     "output_type": "error",
     "traceback": [
      "\u001b[1;31m---------------------------------------------------------------------------\u001b[0m",
      "\u001b[1;31mAttributeError\u001b[0m                            Traceback (most recent call last)",
      "Cell \u001b[1;32mIn[81], line 2\u001b[0m\n\u001b[0;32m      1\u001b[0m \u001b[38;5;28;01mfor\u001b[39;00m filename \u001b[38;5;129;01min\u001b[39;00m pdf_list:\n\u001b[1;32m----> 2\u001b[0m     \u001b[38;5;28mprint\u001b[39m(\u001b[43mfilename\u001b[49m\u001b[38;5;241;43m.\u001b[39;49m\u001b[43mname\u001b[49m)\n",
      "\u001b[1;31mAttributeError\u001b[0m: 'str' object has no attribute 'name'"
     ]
    }
   ],
   "source": [
    "for filename in pdf_list:\n",
    "    print(filename.name)"
   ]
  },
  {
   "cell_type": "code",
   "execution_count": 77,
   "metadata": {},
   "outputs": [],
   "source": [
    " chunks=get_pdf_text(pdf)"
   ]
  },
  {
   "cell_type": "code",
   "execution_count": null,
   "metadata": {},
   "outputs": [],
   "source": []
  },
  {
   "cell_type": "code",
   "execution_count": 78,
   "metadata": {},
   "outputs": [
    {
     "data": {
      "text/plain": [
       "'SALVADOR SANZ\\nEmbedded Software Engineer\\nsalvador.sanz@email.com (123) 456-7890 Dover, DE\\nLinkedIn\\nWORK EXPERIENCE\\nSenior Embedded Software Engineer\\nDice\\n2019 - current Dover, DE\\nContributed to the design of software system architecture\\nto establish a stable foundation for 25+ applications\\nManaged 3 long-term development programs and 6\\nshort-cycle custom design tasks\\nOwned 100% of technical leadership responsibilities for\\nproduct feature research and development\\nSpearheaded all aspects of product development from\\nsystem design to testing\\nSoftware Engineer III, Embedded Systems\\nGoogle\\n2015 - 2019 Dover, DE\\nArchitected, implemented, and maintained 50+ complex\\nﬁrmware/software designs\\nWrote clean, robust, testable, reusable, and sustainable\\ncode tailored for embedded systems\\nWorked with 4 multi-functional teams to determine\\nsoftware architecture and speciﬁcations\\nDeveloped and maintained 12+ engineering tools used to\\ndebug, analyze, and test embedded products\\nResearch & Development Embedded\\nSoftware Engineer\\nSuperpedestrian\\n2011 - 2015 Dover, DE\\nCollaborated with 3 multidisciplinary teams to build\\nveriﬁcation plans, frameworks, tools, and tests\\nArchitected and developed 10+ tools and infrastructures\\nto support efﬁcient building, debugging, and deployment\\nReviewed and updated 300+ software requirements and\\ndesigns for veriﬁability\\nCoordinated 100% of software testing resources (internal\\n& external) and provided schedule estimatesCAREER SUMMARY\\nProven and hard-working\\nembedded software engineer with\\n10+ years of experience. My passion\\nis combining clean and scalable\\ncode with cutting-edge physical\\nhardware, and I am eager to solve\\ncreative problems for Oracle\\nconsumers to create an improved\\nuser experience.\\nEDUCATION\\nBachelor of Science\\nComputer Science\\nCarnegie Mellon University\\n2007 - 2011\\nPittsburgh, PA\\nSKILLS\\nPython\\nPerl\\nRISC CPUA\\nOperating System Hardware\\nRTOS\\nJTAG/SWD\\nC/C++\\nQEMU'"
      ]
     },
     "execution_count": 78,
     "metadata": {},
     "output_type": "execute_result"
    }
   ],
   "source": [
    "chunks"
   ]
  },
  {
   "cell_type": "code",
   "execution_count": 79,
   "metadata": {},
   "outputs": [],
   "source": [
    "docs=[]"
   ]
  },
  {
   "cell_type": "code",
   "execution_count": 83,
   "metadata": {},
   "outputs": [],
   "source": [
    "docs.append(Document(page_content=chunks))"
   ]
  },
  {
   "cell_type": "code",
   "execution_count": 84,
   "metadata": {},
   "outputs": [
    {
     "data": {
      "text/plain": [
       "[Document(page_content='SALVADOR SANZ\\nEmbedded Software Engineer\\nsalvador.sanz@email.com (123) 456-7890 Dover, DE\\nLinkedIn\\nWORK EXPERIENCE\\nSenior Embedded Software Engineer\\nDice\\n2019 - current Dover, DE\\nContributed to the design of software system architecture\\nto establish a stable foundation for 25+ applications\\nManaged 3 long-term development programs and 6\\nshort-cycle custom design tasks\\nOwned 100% of technical leadership responsibilities for\\nproduct feature research and development\\nSpearheaded all aspects of product development from\\nsystem design to testing\\nSoftware Engineer III, Embedded Systems\\nGoogle\\n2015 - 2019 Dover, DE\\nArchitected, implemented, and maintained 50+ complex\\nﬁrmware/software designs\\nWrote clean, robust, testable, reusable, and sustainable\\ncode tailored for embedded systems\\nWorked with 4 multi-functional teams to determine\\nsoftware architecture and speciﬁcations\\nDeveloped and maintained 12+ engineering tools used to\\ndebug, analyze, and test embedded products\\nResearch & Development Embedded\\nSoftware Engineer\\nSuperpedestrian\\n2011 - 2015 Dover, DE\\nCollaborated with 3 multidisciplinary teams to build\\nveriﬁcation plans, frameworks, tools, and tests\\nArchitected and developed 10+ tools and infrastructures\\nto support efﬁcient building, debugging, and deployment\\nReviewed and updated 300+ software requirements and\\ndesigns for veriﬁability\\nCoordinated 100% of software testing resources (internal\\n& external) and provided schedule estimatesCAREER SUMMARY\\nProven and hard-working\\nembedded software engineer with\\n10+ years of experience. My passion\\nis combining clean and scalable\\ncode with cutting-edge physical\\nhardware, and I am eager to solve\\ncreative problems for Oracle\\nconsumers to create an improved\\nuser experience.\\nEDUCATION\\nBachelor of Science\\nComputer Science\\nCarnegie Mellon University\\n2007 - 2011\\nPittsburgh, PA\\nSKILLS\\nPython\\nPerl\\nRISC CPUA\\nOperating System Hardware\\nRTOS\\nJTAG/SWD\\nC/C++\\nQEMU')]"
      ]
     },
     "execution_count": 84,
     "metadata": {},
     "output_type": "execute_result"
    }
   ],
   "source": [
    "docs"
   ]
  },
  {
   "cell_type": "code",
   "execution_count": null,
   "metadata": {},
   "outputs": [],
   "source": [
    "docs."
   ]
  },
  {
   "cell_type": "code",
   "execution_count": 5,
   "metadata": {},
   "outputs": [],
   "source": [
    "#Create embeddings instance\n",
    "def create_embeddings_load_data():\n",
    "    #embeddings = OpenAIEmbeddings()\n",
    "    embeddings = SentenceTransformerEmbeddings(model_name=\"all-MiniLM-L6-v2\")\n",
    "    return embeddings"
   ]
  },
  {
   "cell_type": "code",
   "execution_count": 85,
   "metadata": {},
   "outputs": [
    {
     "name": "stderr",
     "output_type": "stream",
     "text": [
      "c:\\Users\\AKM098\\AppData\\Local\\anaconda3\\envs\\llm-mysql\\lib\\site-packages\\langchain_core\\_api\\deprecation.py:139: LangChainDeprecationWarning: The class `HuggingFaceEmbeddings` was deprecated in LangChain 0.2.2 and will be removed in 0.3.0. An updated version of the class exists in the langchain-huggingface package and should be used instead. To use it run `pip install -U langchain-huggingface` and import as `from langchain_huggingface import HuggingFaceEmbeddings`.\n",
      "  warn_deprecated(\n"
     ]
    }
   ],
   "source": [
    "embeddings = SentenceTransformerEmbeddings(model_name=\"all-MiniLM-L6-v2\")"
   ]
  },
  {
   "cell_type": "code",
   "execution_count": 88,
   "metadata": {},
   "outputs": [],
   "source": [
    "pinecone_apikey = \"e55e23e2-8a3b-4b6a-a2b1-5e3076fd28eb\"\n",
    "os.environ['PINECONE_API_KEY'] = pinecone_apikey\n",
    "pinecone_index_name='resume'"
   ]
  },
  {
   "cell_type": "code",
   "execution_count": 89,
   "metadata": {},
   "outputs": [],
   "source": [
    "index = Pinecone.from_documents(docs, embeddings, index_name=pinecone_index_name)"
   ]
  },
  {
   "cell_type": "code",
   "execution_count": 90,
   "metadata": {},
   "outputs": [
    {
     "data": {
      "text/plain": [
       "<langchain_community.vectorstores.pinecone.Pinecone at 0x2614cdf8f40>"
      ]
     },
     "execution_count": 90,
     "metadata": {},
     "output_type": "execute_result"
    }
   ],
   "source": [
    "index"
   ]
  },
  {
   "cell_type": "code",
   "execution_count": 91,
   "metadata": {},
   "outputs": [],
   "source": [
    "index = Pinecone.from_existing_index(pinecone_index_name, embeddings)"
   ]
  },
  {
   "cell_type": "code",
   "execution_count": 92,
   "metadata": {},
   "outputs": [
    {
     "data": {
      "text/plain": [
       "<langchain_community.vectorstores.pinecone.Pinecone at 0x2615c83fac0>"
      ]
     },
     "execution_count": 92,
     "metadata": {},
     "output_type": "execute_result"
    }
   ],
   "source": [
    "index"
   ]
  },
  {
   "cell_type": "code",
   "execution_count": null,
   "metadata": {},
   "outputs": [],
   "source": [
    "index.similarity_search(query, k=2, {\"unique_id\": unique_id})"
   ]
  },
  {
   "cell_type": "code",
   "execution_count": null,
   "metadata": {},
   "outputs": [],
   "source": [
    "#Function to push data to Pinecone\n",
    "def push_to_pinecone(pinecone_index_name,embeddings, docs):\n",
    "    index = Pinecone.from_documents(docs, embeddings, index_name=pinecone_index_name)\n",
    "    return index\n",
    "\n",
    "#Function to pull index data from Pinecone\n",
    "def pull_from_pinecone(pinecone_index_name,embeddings):\n",
    "    index = Pinecone.from_existing_index(pinecone_index_name, embeddings)\n",
    "    return index\n",
    "\n",
    "#This function will help us in fetching the top relevent documents from our vector store - Pinecone Index\n",
    "def get_similar_docs(index,query,k=2,  unique_id):\n",
    "    similar_docs = index.similarity_search(query, k=k, {\"unique_id\": unique_id})\n",
    "    return similar_docs"
   ]
  },
  {
   "cell_type": "code",
   "execution_count": null,
   "metadata": {},
   "outputs": [],
   "source": [
    "pinecone_index_name"
   ]
  },
  {
   "cell_type": "code",
   "execution_count": null,
   "metadata": {},
   "outputs": [],
   "source": [
    "index = Pinecone.from_documents(docs, embeddings, index_name=pinecone_index_name)"
   ]
  },
  {
   "cell_type": "code",
   "execution_count": 9,
   "metadata": {},
   "outputs": [],
   "source": [
    "def get_summary(current_doc):\n",
    "    #llm = OpenAI(temperature=0)\n",
    "    llm = HuggingFaceHub(repo_id=\"bigscience/bloom\", model_kwargs={\"temperature\":0})\n",
    "    chain = load_summarize_chain(llm, chain_type=\"map_reduce\")\n",
    "    summary = c hain.run([current_doc])\n",
    "\n",
    "    return summary"
   ]
  },
  {
   "cell_type": "code",
   "execution_count": 10,
   "metadata": {},
   "outputs": [],
   "source": [
    "import uuid"
   ]
  },
  {
   "cell_type": "code",
   "execution_count": 17,
   "metadata": {},
   "outputs": [
    {
     "data": {
      "text/plain": [
       "'SALVADOR SANZ\\nEmbedded Software Engineer\\nsalvador.sanz@email.com (123) 456-7890 Dover, DE\\nLinkedIn\\nWORK EXPERIENCE\\nSenior Embedded Software Engineer\\nDice\\n2019 - current Dover, DE\\nContributed to the design of software system architecture\\nto establish a stable foundation for 25+ applications\\nManaged 3 long-term development programs and 6\\nshort-cycle custom design tasks\\nOwned 100% of technical leadership responsibilities for\\nproduct feature research and development\\nSpearheaded all aspects of product development from\\nsystem design to testing\\nSoftware Engineer III, Embedded Systems\\nGoogle\\n2015 - 2019 Dover, DE\\nArchitected, implemented, and maintained 50+ complex\\nﬁrmware/software designs\\nWrote clean, robust, testable, reusable, and sustainable\\ncode tailored for embedded systems\\nWorked with 4 multi-functional teams to determine\\nsoftware architecture and speciﬁcations\\nDeveloped and maintained 12+ engineering tools used to\\ndebug, analyze, and test embedded products\\nResearch & Development Embedded\\nSoftware Engineer\\nSuperpedestrian\\n2011 - 2015 Dover, DE\\nCollaborated with 3 multidisciplinary teams to build\\nveriﬁcation plans, frameworks, tools, and tests\\nArchitected and developed 10+ tools and infrastructures\\nto support efﬁcient building, debugging, and deployment\\nReviewed and updated 300+ software requirements and\\ndesigns for veriﬁability\\nCoordinated 100% of software testing resources (internal\\n& external) and provided schedule estimatesCAREER SUMMARY\\nProven and hard-working\\nembedded software engineer with\\n10+ years of experience. My passion\\nis combining clean and scalable\\ncode with cutting-edge physical\\nhardware, and I am eager to solve\\ncreative problems for Oracle\\nconsumers to create an improved\\nuser experience.\\nEDUCATION\\nBachelor of Science\\nComputer Science\\nCarnegie Mellon University\\n2007 - 2011\\nPittsburgh, PA\\nSKILLS\\nPython\\nPerl\\nRISC CPUA\\nOperating System Hardware\\nRTOS\\nJTAG/SWD\\nC/C++\\nQEMU'"
      ]
     },
     "execution_count": 17,
     "metadata": {},
     "output_type": "execute_result"
    }
   ],
   "source": [
    "pdf_doc"
   ]
  },
  {
   "cell_type": "code",
   "execution_count": 13,
   "metadata": {},
   "outputs": [],
   "source": [
    "unique_id = uuid.uuid4().hex"
   ]
  },
  {
   "cell_type": "code",
   "execution_count": 74,
   "metadata": {},
   "outputs": [
    {
     "ename": "AttributeError",
     "evalue": "'str' object has no attribute 'name'",
     "output_type": "error",
     "traceback": [
      "\u001b[1;31m---------------------------------------------------------------------------\u001b[0m",
      "\u001b[1;31mAttributeError\u001b[0m                            Traceback (most recent call last)",
      "Cell \u001b[1;32mIn[74], line 1\u001b[0m\n\u001b[1;32m----> 1\u001b[0m final_docs_list \u001b[38;5;241m=\u001b[39m \u001b[43mcreate_docs\u001b[49m\u001b[43m(\u001b[49m\u001b[43mpdf_list\u001b[49m\u001b[43m,\u001b[49m\u001b[43munique_id\u001b[49m\u001b[43m)\u001b[49m\n",
      "Cell \u001b[1;32mIn[4], line 10\u001b[0m, in \u001b[0;36mcreate_docs\u001b[1;34m(user_pdf_list, unique_id)\u001b[0m\n\u001b[0;32m      5\u001b[0m     chunks\u001b[38;5;241m=\u001b[39mget_pdf_text(filename)\n\u001b[0;32m      7\u001b[0m     \u001b[38;5;66;03m#Adding items to our list - Adding data & its metadata\u001b[39;00m\n\u001b[0;32m      8\u001b[0m     docs\u001b[38;5;241m.\u001b[39mappend(Document(\n\u001b[0;32m      9\u001b[0m         page_content\u001b[38;5;241m=\u001b[39mchunks,\n\u001b[1;32m---> 10\u001b[0m         metadata\u001b[38;5;241m=\u001b[39m{\u001b[38;5;124m\"\u001b[39m\u001b[38;5;124mname\u001b[39m\u001b[38;5;124m\"\u001b[39m: \u001b[43mfilename\u001b[49m\u001b[38;5;241;43m.\u001b[39;49m\u001b[43mname\u001b[49m,\u001b[38;5;124m\"\u001b[39m\u001b[38;5;124mid\u001b[39m\u001b[38;5;124m\"\u001b[39m:filename\u001b[38;5;241m.\u001b[39mid,\u001b[38;5;124m\"\u001b[39m\u001b[38;5;124mtype=\u001b[39m\u001b[38;5;124m\"\u001b[39m:filename\u001b[38;5;241m.\u001b[39mtype,\u001b[38;5;124m\"\u001b[39m\u001b[38;5;124msize\u001b[39m\u001b[38;5;124m\"\u001b[39m:filename\u001b[38;5;241m.\u001b[39msize,\u001b[38;5;124m\"\u001b[39m\u001b[38;5;124munique_id\u001b[39m\u001b[38;5;124m\"\u001b[39m:unique_id},\n\u001b[0;32m     11\u001b[0m     ))\n\u001b[0;32m     13\u001b[0m \u001b[38;5;28;01mreturn\u001b[39;00m docs\n",
      "\u001b[1;31mAttributeError\u001b[0m: 'str' object has no attribute 'name'"
     ]
    }
   ],
   "source": [
    "final_docs_list = create_docs(pdf_list,unique_id)"
   ]
  },
  {
   "cell_type": "code",
   "execution_count": null,
   "metadata": {},
   "outputs": [],
   "source": []
  }
 ],
 "metadata": {
  "kernelspec": {
   "display_name": "llm-mysql",
   "language": "python",
   "name": "python3"
  },
  "language_info": {
   "codemirror_mode": {
    "name": "ipython",
    "version": 3
   },
   "file_extension": ".py",
   "mimetype": "text/x-python",
   "name": "python",
   "nbconvert_exporter": "python",
   "pygments_lexer": "ipython3",
   "version": "3.10.14"
  }
 },
 "nbformat": 4,
 "nbformat_minor": 2
}
